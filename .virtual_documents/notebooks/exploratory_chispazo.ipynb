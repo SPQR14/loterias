import pandas as pd
import plotly
import seaborn as sns
from matplotlib import pyplot
from pathlib import Path
import os
from datetime import datetime


root_dir = Path(os.getcwd()).parent
data_dir = root_dir / "data"
chispazo_dir = data_dir / 'chispazo'


chispazo_files = os.listdir(chispazo_dir)


chispazo_files


for i in chispazo_files:
    print(i.split('.')[0])


dates = []
for i in chispazo_dir.glob('*.csv'):
    try:
        file_name = i.stem
        date = datetime.strptime(file_name, "%d%m%y")
        dates.append((file_name, str(date.date())))
    except ValueError:
        continue


dates


most_recent = max(dates, key=lambda x:x[1])


most_recent



























