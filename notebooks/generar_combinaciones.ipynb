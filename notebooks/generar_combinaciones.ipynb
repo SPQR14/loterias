{
 "cells": [
  {
   "cell_type": "code",
   "execution_count": 1,
   "id": "7b49c893-0016-4d27-bae7-d4681a142d49",
   "metadata": {},
   "outputs": [],
   "source": [
    "import pandas as pd\n",
    "import itertools"
   ]
  },
  {
   "cell_type": "code",
   "execution_count": null,
   "id": "970b058a-d70a-4dea-abdf-7a1aa0ae0464",
   "metadata": {},
   "outputs": [],
   "source": [
    "def generador_sim():\n",
    "    \n",
    "    pass"
   ]
  }
 ],
 "metadata": {
  "kernelspec": {
   "display_name": "loteria1",
   "language": "python",
   "name": "loteria1"
  },
  "language_info": {
   "codemirror_mode": {
    "name": "ipython",
    "version": 3
   },
   "file_extension": ".py",
   "mimetype": "text/x-python",
   "name": "python",
   "nbconvert_exporter": "python",
   "pygments_lexer": "ipython3",
   "version": "3.12.11"
  }
 },
 "nbformat": 4,
 "nbformat_minor": 5
}
