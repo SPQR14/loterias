{
 "cells": [
  {
   "cell_type": "code",
   "execution_count": 1,
   "id": "b2ef1581-8bf6-42d5-b1dc-ff942be750b2",
   "metadata": {},
   "outputs": [],
   "source": [
    "import pandas as pd\n",
    "import plotly\n",
    "import seaborn as sns\n",
    "from matplotlib import pyplot\n",
    "from pathlib import Path\n",
    "import os\n",
    "from datetime import datetime"
   ]
  },
  {
   "cell_type": "code",
   "execution_count": 2,
   "id": "ba447710-550f-4e21-8885-860aa5894c77",
   "metadata": {},
   "outputs": [],
   "source": [
    "root_dir = Path(os.getcwd()).parent\n",
    "data_dir = root_dir / \"data\"\n",
    "chispazo_dir = data_dir / 'chispazo'"
   ]
  },
  {
   "cell_type": "code",
   "execution_count": 3,
   "id": "5acc9ab0-ed02-43a5-9927-1b2a0f0ff059",
   "metadata": {},
   "outputs": [],
   "source": [
    "chispazo_files = os.listdir(chispazo_dir)"
   ]
  },
  {
   "cell_type": "code",
   "execution_count": 4,
   "id": "f9dd76dd-1230-40a6-aaa0-59eaae19976f",
   "metadata": {},
   "outputs": [
    {
     "data": {
      "text/plain": [
       "['170722.csv',\n",
       " '140221.csv',\n",
       " '020825.csv',\n",
       " '100126.csv',\n",
       " '110725.csv',\n",
       " '100725.csv']"
      ]
     },
     "execution_count": 4,
     "metadata": {},
     "output_type": "execute_result"
    }
   ],
   "source": [
    "chispazo_files"
   ]
  },
  {
   "cell_type": "code",
   "execution_count": 5,
   "id": "6b6401c1-b074-4b49-9493-81fcd67998bc",
   "metadata": {},
   "outputs": [
    {
     "name": "stdout",
     "output_type": "stream",
     "text": [
      "170722\n",
      "140221\n",
      "020825\n",
      "100126\n",
      "110725\n",
      "100725\n"
     ]
    }
   ],
   "source": [
    "for i in chispazo_files:\n",
    "    print(i.split('.')[0])"
   ]
  },
  {
   "cell_type": "code",
   "execution_count": 6,
   "id": "23c46af5-140f-4b51-997d-d6ae92ba74f9",
   "metadata": {},
   "outputs": [],
   "source": [
    "dates = []\n",
    "for i in chispazo_dir.glob('*.csv'):\n",
    "    try:\n",
    "        file_name = i.stem\n",
    "        date = datetime.strptime(file_name, \"%d%m%y\")\n",
    "        dates.append((file_name, str(date.date())))\n",
    "    except ValueError:\n",
    "        continue"
   ]
  },
  {
   "cell_type": "code",
   "execution_count": 7,
   "id": "bf455cf0-ce31-4fb4-b10a-f51ae4f5a97f",
   "metadata": {},
   "outputs": [],
   "source": [
    "if dates:\n",
    "    most_recent = max(dates, key=lambda x:x[1])\n",
    "else:\n",
    "    print(\"Files were not found in directory\")"
   ]
  },
  {
   "cell_type": "code",
   "execution_count": 8,
   "id": "6ac1bbdd-cb50-444b-8edd-70cdbfa4db34",
   "metadata": {},
   "outputs": [
    {
     "data": {
      "text/plain": [
       "('100126', '2026-01-10')"
      ]
     },
     "execution_count": 8,
     "metadata": {},
     "output_type": "execute_result"
    }
   ],
   "source": [
    "most_recent"
   ]
  },
  {
   "cell_type": "code",
   "execution_count": 9,
   "id": "40c615aa-73fb-4cbf-8ceb-8d01400a90b9",
   "metadata": {},
   "outputs": [],
   "source": [
    "df = pd.read_csv(f'{chispazo_dir}/{most_recent[0]}.csv')"
   ]
  },
  {
   "cell_type": "code",
   "execution_count": 10,
   "id": "31cf0700-3748-4c0f-855c-9e8f1523cca6",
   "metadata": {},
   "outputs": [
    {
     "data": {
      "text/html": [
       "<div>\n",
       "<style scoped>\n",
       "    .dataframe tbody tr th:only-of-type {\n",
       "        vertical-align: middle;\n",
       "    }\n",
       "\n",
       "    .dataframe tbody tr th {\n",
       "        vertical-align: top;\n",
       "    }\n",
       "\n",
       "    .dataframe thead th {\n",
       "        text-align: right;\n",
       "    }\n",
       "</style>\n",
       "<table border=\"1\" class=\"dataframe\">\n",
       "  <thead>\n",
       "    <tr style=\"text-align: right;\">\n",
       "      <th></th>\n",
       "      <th>CONCURSO</th>\n",
       "      <th>R1</th>\n",
       "      <th>R2</th>\n",
       "      <th>R3</th>\n",
       "      <th>R4</th>\n",
       "      <th>R5</th>\n",
       "      <th>FECHA</th>\n",
       "    </tr>\n",
       "  </thead>\n",
       "  <tbody>\n",
       "    <tr>\n",
       "      <th>0</th>\n",
       "      <td>11388</td>\n",
       "      <td>1</td>\n",
       "      <td>5</td>\n",
       "      <td>13</td>\n",
       "      <td>17</td>\n",
       "      <td>28</td>\n",
       "      <td>09/07/2025</td>\n",
       "    </tr>\n",
       "    <tr>\n",
       "      <th>1</th>\n",
       "      <td>11387</td>\n",
       "      <td>3</td>\n",
       "      <td>11</td>\n",
       "      <td>19</td>\n",
       "      <td>25</td>\n",
       "      <td>27</td>\n",
       "      <td>09/07/2025</td>\n",
       "    </tr>\n",
       "    <tr>\n",
       "      <th>2</th>\n",
       "      <td>11386</td>\n",
       "      <td>7</td>\n",
       "      <td>9</td>\n",
       "      <td>10</td>\n",
       "      <td>15</td>\n",
       "      <td>19</td>\n",
       "      <td>08/07/2025</td>\n",
       "    </tr>\n",
       "    <tr>\n",
       "      <th>3</th>\n",
       "      <td>11385</td>\n",
       "      <td>3</td>\n",
       "      <td>7</td>\n",
       "      <td>14</td>\n",
       "      <td>26</td>\n",
       "      <td>28</td>\n",
       "      <td>08/07/2025</td>\n",
       "    </tr>\n",
       "    <tr>\n",
       "      <th>4</th>\n",
       "      <td>11384</td>\n",
       "      <td>1</td>\n",
       "      <td>3</td>\n",
       "      <td>23</td>\n",
       "      <td>24</td>\n",
       "      <td>27</td>\n",
       "      <td>07/07/2025</td>\n",
       "    </tr>\n",
       "  </tbody>\n",
       "</table>\n",
       "</div>"
      ],
      "text/plain": [
       "   CONCURSO  R1  R2  R3  R4  R5       FECHA\n",
       "0     11388   1   5  13  17  28  09/07/2025\n",
       "1     11387   3  11  19  25  27  09/07/2025\n",
       "2     11386   7   9  10  15  19  08/07/2025\n",
       "3     11385   3   7  14  26  28  08/07/2025\n",
       "4     11384   1   3  23  24  27  07/07/2025"
      ]
     },
     "execution_count": 10,
     "metadata": {},
     "output_type": "execute_result"
    }
   ],
   "source": [
    "df.head()"
   ]
  },
  {
   "cell_type": "code",
   "execution_count": 11,
   "id": "bde4ff90-763d-4b1e-b6bb-2d2e368dcbab",
   "metadata": {
    "editable": true,
    "slideshow": {
     "slide_type": ""
    },
    "tags": []
   },
   "outputs": [],
   "source": [
    "df.sort_values('CONCURSO', axis=0, ascending=True, inplace=True, na_position='last')"
   ]
  },
  {
   "cell_type": "code",
   "execution_count": 12,
   "id": "b9eda772-7bd5-4e3e-b5c8-f75775ca27ff",
   "metadata": {},
   "outputs": [
    {
     "data": {
      "text/html": [
       "<div>\n",
       "<style scoped>\n",
       "    .dataframe tbody tr th:only-of-type {\n",
       "        vertical-align: middle;\n",
       "    }\n",
       "\n",
       "    .dataframe tbody tr th {\n",
       "        vertical-align: top;\n",
       "    }\n",
       "\n",
       "    .dataframe thead th {\n",
       "        text-align: right;\n",
       "    }\n",
       "</style>\n",
       "<table border=\"1\" class=\"dataframe\">\n",
       "  <thead>\n",
       "    <tr style=\"text-align: right;\">\n",
       "      <th></th>\n",
       "      <th>CONCURSO</th>\n",
       "      <th>R1</th>\n",
       "      <th>R2</th>\n",
       "      <th>R3</th>\n",
       "      <th>R4</th>\n",
       "      <th>R5</th>\n",
       "      <th>FECHA</th>\n",
       "    </tr>\n",
       "  </thead>\n",
       "  <tbody>\n",
       "    <tr>\n",
       "      <th>11387</th>\n",
       "      <td>1</td>\n",
       "      <td>4</td>\n",
       "      <td>7</td>\n",
       "      <td>11</td>\n",
       "      <td>21</td>\n",
       "      <td>24</td>\n",
       "      <td>05/01/1999</td>\n",
       "    </tr>\n",
       "    <tr>\n",
       "      <th>11386</th>\n",
       "      <td>2</td>\n",
       "      <td>5</td>\n",
       "      <td>12</td>\n",
       "      <td>18</td>\n",
       "      <td>22</td>\n",
       "      <td>23</td>\n",
       "      <td>08/01/1999</td>\n",
       "    </tr>\n",
       "    <tr>\n",
       "      <th>11385</th>\n",
       "      <td>3</td>\n",
       "      <td>1</td>\n",
       "      <td>12</td>\n",
       "      <td>16</td>\n",
       "      <td>18</td>\n",
       "      <td>21</td>\n",
       "      <td>12/01/1999</td>\n",
       "    </tr>\n",
       "    <tr>\n",
       "      <th>11384</th>\n",
       "      <td>4</td>\n",
       "      <td>6</td>\n",
       "      <td>10</td>\n",
       "      <td>16</td>\n",
       "      <td>20</td>\n",
       "      <td>25</td>\n",
       "      <td>19/01/1999</td>\n",
       "    </tr>\n",
       "    <tr>\n",
       "      <th>11383</th>\n",
       "      <td>5</td>\n",
       "      <td>12</td>\n",
       "      <td>14</td>\n",
       "      <td>17</td>\n",
       "      <td>21</td>\n",
       "      <td>24</td>\n",
       "      <td>19/01/1999</td>\n",
       "    </tr>\n",
       "  </tbody>\n",
       "</table>\n",
       "</div>"
      ],
      "text/plain": [
       "       CONCURSO  R1  R2  R3  R4  R5       FECHA\n",
       "11387         1   4   7  11  21  24  05/01/1999\n",
       "11386         2   5  12  18  22  23  08/01/1999\n",
       "11385         3   1  12  16  18  21  12/01/1999\n",
       "11384         4   6  10  16  20  25  19/01/1999\n",
       "11383         5  12  14  17  21  24  19/01/1999"
      ]
     },
     "execution_count": 12,
     "metadata": {},
     "output_type": "execute_result"
    }
   ],
   "source": [
    "df.head()"
   ]
  },
  {
   "cell_type": "code",
   "execution_count": 13,
   "id": "b1c6f293-efbf-41f8-b894-21d82d0c40f8",
   "metadata": {},
   "outputs": [
    {
     "data": {
      "text/html": [
       "<div>\n",
       "<style scoped>\n",
       "    .dataframe tbody tr th:only-of-type {\n",
       "        vertical-align: middle;\n",
       "    }\n",
       "\n",
       "    .dataframe tbody tr th {\n",
       "        vertical-align: top;\n",
       "    }\n",
       "\n",
       "    .dataframe thead th {\n",
       "        text-align: right;\n",
       "    }\n",
       "</style>\n",
       "<table border=\"1\" class=\"dataframe\">\n",
       "  <thead>\n",
       "    <tr style=\"text-align: right;\">\n",
       "      <th></th>\n",
       "      <th>CONCURSO</th>\n",
       "      <th>R1</th>\n",
       "      <th>R2</th>\n",
       "      <th>R3</th>\n",
       "      <th>R4</th>\n",
       "      <th>R5</th>\n",
       "      <th>FECHA</th>\n",
       "    </tr>\n",
       "  </thead>\n",
       "  <tbody>\n",
       "    <tr>\n",
       "      <th>4</th>\n",
       "      <td>11384</td>\n",
       "      <td>1</td>\n",
       "      <td>3</td>\n",
       "      <td>23</td>\n",
       "      <td>24</td>\n",
       "      <td>27</td>\n",
       "      <td>07/07/2025</td>\n",
       "    </tr>\n",
       "    <tr>\n",
       "      <th>3</th>\n",
       "      <td>11385</td>\n",
       "      <td>3</td>\n",
       "      <td>7</td>\n",
       "      <td>14</td>\n",
       "      <td>26</td>\n",
       "      <td>28</td>\n",
       "      <td>08/07/2025</td>\n",
       "    </tr>\n",
       "    <tr>\n",
       "      <th>2</th>\n",
       "      <td>11386</td>\n",
       "      <td>7</td>\n",
       "      <td>9</td>\n",
       "      <td>10</td>\n",
       "      <td>15</td>\n",
       "      <td>19</td>\n",
       "      <td>08/07/2025</td>\n",
       "    </tr>\n",
       "    <tr>\n",
       "      <th>1</th>\n",
       "      <td>11387</td>\n",
       "      <td>3</td>\n",
       "      <td>11</td>\n",
       "      <td>19</td>\n",
       "      <td>25</td>\n",
       "      <td>27</td>\n",
       "      <td>09/07/2025</td>\n",
       "    </tr>\n",
       "    <tr>\n",
       "      <th>0</th>\n",
       "      <td>11388</td>\n",
       "      <td>1</td>\n",
       "      <td>5</td>\n",
       "      <td>13</td>\n",
       "      <td>17</td>\n",
       "      <td>28</td>\n",
       "      <td>09/07/2025</td>\n",
       "    </tr>\n",
       "  </tbody>\n",
       "</table>\n",
       "</div>"
      ],
      "text/plain": [
       "   CONCURSO  R1  R2  R3  R4  R5       FECHA\n",
       "4     11384   1   3  23  24  27  07/07/2025\n",
       "3     11385   3   7  14  26  28  08/07/2025\n",
       "2     11386   7   9  10  15  19  08/07/2025\n",
       "1     11387   3  11  19  25  27  09/07/2025\n",
       "0     11388   1   5  13  17  28  09/07/2025"
      ]
     },
     "execution_count": 13,
     "metadata": {},
     "output_type": "execute_result"
    }
   ],
   "source": [
    "df.tail()"
   ]
  },
  {
   "cell_type": "code",
   "execution_count": 14,
   "id": "34783f0d-4c53-416b-9491-7c06603c0b59",
   "metadata": {},
   "outputs": [],
   "source": [
    "df.reset_index(inplace=True, drop=True)"
   ]
  },
  {
   "cell_type": "code",
   "execution_count": 15,
   "id": "5bec1256-7d5f-4902-a458-c08508b3d4ee",
   "metadata": {},
   "outputs": [
    {
     "data": {
      "text/plain": [
       "R1\n",
       "22       1\n",
       "21       6\n",
       "20      11\n",
       "19      17\n",
       "18      24\n",
       "17      37\n",
       "16      43\n",
       "15      82\n",
       "14     111\n",
       "13     162\n",
       "12     206\n",
       "11     263\n",
       "10     374\n",
       "9      452\n",
       "8      540\n",
       "7      690\n",
       "6      817\n",
       "5     1055\n",
       "4     1264\n",
       "3     1440\n",
       "2     1738\n",
       "1     2055\n",
       "Name: count, dtype: int64"
      ]
     },
     "execution_count": 15,
     "metadata": {},
     "output_type": "execute_result"
    }
   ],
   "source": [
    "df['R1'].value_counts().sort_values()"
   ]
  },
  {
   "cell_type": "code",
   "execution_count": 16,
   "id": "2dcd91f5-7052-43f1-9c36-58d38840d2b5",
   "metadata": {},
   "outputs": [
    {
     "data": {
      "text/plain": [
       "R2\n",
       "25      3\n",
       "24     11\n",
       "23     21\n",
       "22     53\n",
       "21     75\n",
       "20    137\n",
       "19    151\n",
       "18    216\n",
       "17    308\n",
       "2     335\n",
       "16    351\n",
       "15    461\n",
       "3     515\n",
       "14    572\n",
       "13    586\n",
       "12    707\n",
       "4     720\n",
       "11    789\n",
       "5     800\n",
       "6     880\n",
       "10    904\n",
       "9     905\n",
       "7     920\n",
       "8     968\n",
       "Name: count, dtype: int64"
      ]
     },
     "execution_count": 16,
     "metadata": {},
     "output_type": "execute_result"
    }
   ],
   "source": [
    "df['R2'].value_counts().sort_values()"
   ]
  },
  {
   "cell_type": "code",
   "execution_count": 17,
   "id": "1ef7bcfa-f1f3-4efe-8155-3980be5d5fb8",
   "metadata": {},
   "outputs": [
    {
     "data": {
      "text/plain": [
       "R3\n",
       "26     29\n",
       "3      50\n",
       "25     74\n",
       "4      86\n",
       "5     171\n",
       "24    183\n",
       "23    237\n",
       "6     288\n",
       "22    352\n",
       "7     365\n",
       "21    447\n",
       "8     475\n",
       "20    511\n",
       "9     584\n",
       "19    646\n",
       "10    678\n",
       "18    687\n",
       "11    709\n",
       "17    747\n",
       "12    765\n",
       "16    808\n",
       "15    810\n",
       "14    828\n",
       "13    858\n",
       "Name: count, dtype: int64"
      ]
     },
     "execution_count": 17,
     "metadata": {},
     "output_type": "execute_result"
    }
   ],
   "source": [
    "df['R3'].value_counts().sort_values()"
   ]
  },
  {
   "cell_type": "code",
   "execution_count": 18,
   "id": "f7f9485a-0643-48ab-951d-ca50dc2de9b6",
   "metadata": {},
   "outputs": [
    {
     "data": {
      "text/plain": [
       "R4\n",
       "4       4\n",
       "5      17\n",
       "6      30\n",
       "7      57\n",
       "8      83\n",
       "9     112\n",
       "10    190\n",
       "11    247\n",
       "27    272\n",
       "12    339\n",
       "13    352\n",
       "14    475\n",
       "26    478\n",
       "15    606\n",
       "25    613\n",
       "16    669\n",
       "17    775\n",
       "24    784\n",
       "18    822\n",
       "19    851\n",
       "23    879\n",
       "22    899\n",
       "21    910\n",
       "20    924\n",
       "Name: count, dtype: int64"
      ]
     },
     "execution_count": 18,
     "metadata": {},
     "output_type": "execute_result"
    }
   ],
   "source": [
    "df['R4'].value_counts().sort_values()"
   ]
  },
  {
   "cell_type": "code",
   "execution_count": 19,
   "id": "633f3221-3206-4100-8197-f1c5631ca0bb",
   "metadata": {},
   "outputs": [
    {
     "data": {
      "text/plain": [
       "R5\n",
       "6        1\n",
       "7        4\n",
       "9        6\n",
       "8        8\n",
       "11      21\n",
       "10      22\n",
       "12      45\n",
       "13      62\n",
       "14      85\n",
       "15     105\n",
       "16     154\n",
       "17     243\n",
       "18     336\n",
       "19     383\n",
       "20     442\n",
       "21     664\n",
       "22     727\n",
       "23     947\n",
       "24    1072\n",
       "26    1273\n",
       "25    1404\n",
       "27    1619\n",
       "28    1765\n",
       "Name: count, dtype: int64"
      ]
     },
     "execution_count": 19,
     "metadata": {},
     "output_type": "execute_result"
    }
   ],
   "source": [
    "df['R5'].value_counts().sort_values()"
   ]
  },
  {
   "cell_type": "code",
   "execution_count": null,
   "id": "71e8f102-41d5-40d4-b23a-3f87f675892d",
   "metadata": {},
   "outputs": [],
   "source": []
  },
  {
   "cell_type": "code",
   "execution_count": null,
   "id": "161eeab7-fac1-464a-bed0-57e2317a4ac0",
   "metadata": {},
   "outputs": [],
   "source": []
  },
  {
   "cell_type": "code",
   "execution_count": null,
   "id": "be48f7f0-dac0-4548-b75d-3c3444ce227a",
   "metadata": {},
   "outputs": [],
   "source": []
  },
  {
   "cell_type": "code",
   "execution_count": null,
   "id": "d47d8ae1-6d14-4f8e-a977-6c8fa92b5ea7",
   "metadata": {},
   "outputs": [],
   "source": []
  },
  {
   "cell_type": "code",
   "execution_count": null,
   "id": "d4beb33d-77fa-4a24-b693-8b672c3a7518",
   "metadata": {},
   "outputs": [],
   "source": []
  },
  {
   "cell_type": "code",
   "execution_count": null,
   "id": "05d3bf24-ea5f-4f0f-b74e-738392b3886d",
   "metadata": {},
   "outputs": [],
   "source": []
  }
 ],
 "metadata": {
  "kernelspec": {
   "display_name": "loteria1",
   "language": "python",
   "name": "loteria1"
  },
  "language_info": {
   "codemirror_mode": {
    "name": "ipython",
    "version": 3
   },
   "file_extension": ".py",
   "mimetype": "text/x-python",
   "name": "python",
   "nbconvert_exporter": "python",
   "pygments_lexer": "ipython3",
   "version": "3.13.5"
  }
 },
 "nbformat": 4,
 "nbformat_minor": 5
}
