{
 "cells": [
  {
   "cell_type": "code",
   "execution_count": 27,
   "id": "b2ef1581-8bf6-42d5-b1dc-ff942be750b2",
   "metadata": {},
   "outputs": [],
   "source": [
    "import pandas as pd\n",
    "import plotly\n",
    "import seaborn as sns\n",
    "from matplotlib import pyplot\n",
    "from pathlib import Path\n",
    "import os\n",
    "from datetime import datetime"
   ]
  },
  {
   "cell_type": "code",
   "execution_count": 28,
   "id": "ba447710-550f-4e21-8885-860aa5894c77",
   "metadata": {},
   "outputs": [],
   "source": [
    "root_dir = Path(os.getcwd()).parent\n",
    "data_dir = root_dir / \"data\"\n",
    "chispazo_dir = data_dir / 'chispazo'"
   ]
  },
  {
   "cell_type": "code",
   "execution_count": 29,
   "id": "5acc9ab0-ed02-43a5-9927-1b2a0f0ff059",
   "metadata": {},
   "outputs": [],
   "source": [
    "chispazo_files = os.listdir(chispazo_dir)"
   ]
  },
  {
   "cell_type": "code",
   "execution_count": 30,
   "id": "f9dd76dd-1230-40a6-aaa0-59eaae19976f",
   "metadata": {},
   "outputs": [
    {
     "data": {
      "text/plain": [
       "['170722.csv',\n",
       " '140221.csv',\n",
       " '020825.csv',\n",
       " '100126.csv',\n",
       " '110725.csv',\n",
       " '100725.csv']"
      ]
     },
     "execution_count": 30,
     "metadata": {},
     "output_type": "execute_result"
    }
   ],
   "source": [
    "chispazo_files"
   ]
  },
  {
   "cell_type": "code",
   "execution_count": 31,
   "id": "6b6401c1-b074-4b49-9493-81fcd67998bc",
   "metadata": {},
   "outputs": [
    {
     "name": "stdout",
     "output_type": "stream",
     "text": [
      "170722\n",
      "140221\n",
      "020825\n",
      "100126\n",
      "110725\n",
      "100725\n"
     ]
    }
   ],
   "source": [
    "for i in chispazo_files:\n",
    "    print(i.split('.')[0])"
   ]
  },
  {
   "cell_type": "code",
   "execution_count": 32,
   "id": "23c46af5-140f-4b51-997d-d6ae92ba74f9",
   "metadata": {},
   "outputs": [],
   "source": [
    "dates = []\n",
    "for i in chispazo_dir.glob('*.csv'):\n",
    "    try:\n",
    "        file_name = i.stem\n",
    "        date = datetime.strptime(file_name, \"%d%m%y\")\n",
    "        dates.append((file_name, str(date.date())))\n",
    "    except ValueError:\n",
    "        continue"
   ]
  },
  {
   "cell_type": "code",
   "execution_count": 40,
   "id": "bf455cf0-ce31-4fb4-b10a-f51ae4f5a97f",
   "metadata": {},
   "outputs": [],
   "source": [
    "if dates:\n",
    "    most_recent = max(dates, key=lambda x:x[1])\n",
    "else:\n",
    "    print(\"Files were not found in directory\")"
   ]
  },
  {
   "cell_type": "code",
   "execution_count": 41,
   "id": "6ac1bbdd-cb50-444b-8edd-70cdbfa4db34",
   "metadata": {},
   "outputs": [
    {
     "data": {
      "text/plain": [
       "('100126', '2026-01-10')"
      ]
     },
     "execution_count": 41,
     "metadata": {},
     "output_type": "execute_result"
    }
   ],
   "source": [
    "most_recent"
   ]
  },
  {
   "cell_type": "code",
   "execution_count": 42,
   "id": "40c615aa-73fb-4cbf-8ceb-8d01400a90b9",
   "metadata": {},
   "outputs": [],
   "source": [
    "df = pd.read_csv(f'{chispazo_dir}/{most_recent[0]}.csv')"
   ]
  },
  {
   "cell_type": "code",
   "execution_count": 43,
   "id": "31cf0700-3748-4c0f-855c-9e8f1523cca6",
   "metadata": {},
   "outputs": [
    {
     "data": {
      "text/html": [
       "<div>\n",
       "<style scoped>\n",
       "    .dataframe tbody tr th:only-of-type {\n",
       "        vertical-align: middle;\n",
       "    }\n",
       "\n",
       "    .dataframe tbody tr th {\n",
       "        vertical-align: top;\n",
       "    }\n",
       "\n",
       "    .dataframe thead th {\n",
       "        text-align: right;\n",
       "    }\n",
       "</style>\n",
       "<table border=\"1\" class=\"dataframe\">\n",
       "  <thead>\n",
       "    <tr style=\"text-align: right;\">\n",
       "      <th></th>\n",
       "      <th>CONCURSO</th>\n",
       "      <th>R1</th>\n",
       "      <th>R2</th>\n",
       "      <th>R3</th>\n",
       "      <th>R4</th>\n",
       "      <th>R5</th>\n",
       "      <th>FECHA</th>\n",
       "    </tr>\n",
       "  </thead>\n",
       "  <tbody>\n",
       "    <tr>\n",
       "      <th>0</th>\n",
       "      <td>11388</td>\n",
       "      <td>1</td>\n",
       "      <td>5</td>\n",
       "      <td>13</td>\n",
       "      <td>17</td>\n",
       "      <td>28</td>\n",
       "      <td>09/07/2025</td>\n",
       "    </tr>\n",
       "    <tr>\n",
       "      <th>1</th>\n",
       "      <td>11387</td>\n",
       "      <td>3</td>\n",
       "      <td>11</td>\n",
       "      <td>19</td>\n",
       "      <td>25</td>\n",
       "      <td>27</td>\n",
       "      <td>09/07/2025</td>\n",
       "    </tr>\n",
       "    <tr>\n",
       "      <th>2</th>\n",
       "      <td>11386</td>\n",
       "      <td>7</td>\n",
       "      <td>9</td>\n",
       "      <td>10</td>\n",
       "      <td>15</td>\n",
       "      <td>19</td>\n",
       "      <td>08/07/2025</td>\n",
       "    </tr>\n",
       "    <tr>\n",
       "      <th>3</th>\n",
       "      <td>11385</td>\n",
       "      <td>3</td>\n",
       "      <td>7</td>\n",
       "      <td>14</td>\n",
       "      <td>26</td>\n",
       "      <td>28</td>\n",
       "      <td>08/07/2025</td>\n",
       "    </tr>\n",
       "    <tr>\n",
       "      <th>4</th>\n",
       "      <td>11384</td>\n",
       "      <td>1</td>\n",
       "      <td>3</td>\n",
       "      <td>23</td>\n",
       "      <td>24</td>\n",
       "      <td>27</td>\n",
       "      <td>07/07/2025</td>\n",
       "    </tr>\n",
       "  </tbody>\n",
       "</table>\n",
       "</div>"
      ],
      "text/plain": [
       "   CONCURSO  R1  R2  R3  R4  R5       FECHA\n",
       "0     11388   1   5  13  17  28  09/07/2025\n",
       "1     11387   3  11  19  25  27  09/07/2025\n",
       "2     11386   7   9  10  15  19  08/07/2025\n",
       "3     11385   3   7  14  26  28  08/07/2025\n",
       "4     11384   1   3  23  24  27  07/07/2025"
      ]
     },
     "execution_count": 43,
     "metadata": {},
     "output_type": "execute_result"
    }
   ],
   "source": [
    "df.head()"
   ]
  },
  {
   "cell_type": "code",
   "execution_count": null,
   "id": "bde4ff90-763d-4b1e-b6bb-2d2e368dcbab",
   "metadata": {
    "editable": true,
    "slideshow": {
     "slide_type": ""
    },
    "tags": []
   },
   "outputs": [],
   "source": []
  },
  {
   "cell_type": "code",
   "execution_count": null,
   "id": "b9eda772-7bd5-4e3e-b5c8-f75775ca27ff",
   "metadata": {},
   "outputs": [],
   "source": []
  },
  {
   "cell_type": "code",
   "execution_count": null,
   "id": "b1c6f293-efbf-41f8-b894-21d82d0c40f8",
   "metadata": {},
   "outputs": [],
   "source": []
  },
  {
   "cell_type": "code",
   "execution_count": null,
   "id": "34783f0d-4c53-416b-9491-7c06603c0b59",
   "metadata": {},
   "outputs": [],
   "source": []
  },
  {
   "cell_type": "code",
   "execution_count": null,
   "id": "99040da6-cd94-41e6-82f4-482353af6308",
   "metadata": {},
   "outputs": [],
   "source": []
  },
  {
   "cell_type": "code",
   "execution_count": null,
   "id": "3bc2001c-7178-4aa6-aae6-ecc5aca8671e",
   "metadata": {},
   "outputs": [],
   "source": []
  },
  {
   "cell_type": "code",
   "execution_count": null,
   "id": "5bec1256-7d5f-4902-a458-c08508b3d4ee",
   "metadata": {},
   "outputs": [],
   "source": []
  }
 ],
 "metadata": {
  "kernelspec": {
   "display_name": "loteria1",
   "language": "python",
   "name": "loteria1"
  },
  "language_info": {
   "codemirror_mode": {
    "name": "ipython",
    "version": 3
   },
   "file_extension": ".py",
   "mimetype": "text/x-python",
   "name": "python",
   "nbconvert_exporter": "python",
   "pygments_lexer": "ipython3",
   "version": "3.12.11"
  }
 },
 "nbformat": 4,
 "nbformat_minor": 5
}
