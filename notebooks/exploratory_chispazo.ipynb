{
 "cells": [
  {
   "cell_type": "code",
   "execution_count": 1,
   "id": "b2ef1581-8bf6-42d5-b1dc-ff942be750b2",
   "metadata": {},
   "outputs": [],
   "source": [
    "import pandas as pd\n",
    "import plotly\n",
    "import seaborn as sns\n",
    "from matplotlib import pyplot\n",
    "from pathlib import Path\n",
    "import os\n",
    "from datetime import datetime"
   ]
  },
  {
   "cell_type": "code",
   "execution_count": 2,
   "id": "ba447710-550f-4e21-8885-860aa5894c77",
   "metadata": {},
   "outputs": [],
   "source": [
    "root_dir = Path(os.getcwd()).parent\n",
    "data_dir = root_dir / \"data\"\n",
    "chispazo_dir = data_dir / 'chispazo'"
   ]
  },
  {
   "cell_type": "code",
   "execution_count": 3,
   "id": "5acc9ab0-ed02-43a5-9927-1b2a0f0ff059",
   "metadata": {},
   "outputs": [],
   "source": [
    "chispazo_files = os.listdir(chispazo_dir)"
   ]
  },
  {
   "cell_type": "code",
   "execution_count": 4,
   "id": "f9dd76dd-1230-40a6-aaa0-59eaae19976f",
   "metadata": {},
   "outputs": [
    {
     "data": {
      "text/plain": [
       "['170722.csv',\n",
       " '140221.csv',\n",
       " '020825.csv',\n",
       " '100126.csv',\n",
       " '110725.csv',\n",
       " '100725.csv']"
      ]
     },
     "execution_count": 4,
     "metadata": {},
     "output_type": "execute_result"
    }
   ],
   "source": [
    "chispazo_files"
   ]
  },
  {
   "cell_type": "code",
   "execution_count": 5,
   "id": "6b6401c1-b074-4b49-9493-81fcd67998bc",
   "metadata": {},
   "outputs": [
    {
     "name": "stdout",
     "output_type": "stream",
     "text": [
      "170722\n",
      "140221\n",
      "020825\n",
      "100126\n",
      "110725\n",
      "100725\n"
     ]
    }
   ],
   "source": [
    "for i in chispazo_files:\n",
    "    print(i.split('.')[0])"
   ]
  },
  {
   "cell_type": "code",
   "execution_count": 6,
   "id": "23c46af5-140f-4b51-997d-d6ae92ba74f9",
   "metadata": {},
   "outputs": [],
   "source": [
    "dates = []\n",
    "for i in chispazo_dir.glob('*.csv'):\n",
    "    try:\n",
    "        file_name = i.stem\n",
    "        date = datetime.strptime(file_name, \"%d%m%y\")\n",
    "        dates.append((file_name, str(date.date())))\n",
    "    except ValueError:\n",
    "        continue"
   ]
  },
  {
   "cell_type": "code",
   "execution_count": 7,
   "id": "f1990629-18b9-47b6-afbe-3d09ed490995",
   "metadata": {},
   "outputs": [
    {
     "data": {
      "text/plain": [
       "[('170722', '2022-07-17'),\n",
       " ('140221', '2021-02-14'),\n",
       " ('020825', '2025-08-02'),\n",
       " ('100126', '2026-01-10'),\n",
       " ('110725', '2025-07-11'),\n",
       " ('100725', '2025-07-10')]"
      ]
     },
     "execution_count": 7,
     "metadata": {},
     "output_type": "execute_result"
    }
   ],
   "source": [
    "dates"
   ]
  },
  {
   "cell_type": "code",
   "execution_count": 8,
   "id": "bf455cf0-ce31-4fb4-b10a-f51ae4f5a97f",
   "metadata": {},
   "outputs": [],
   "source": [
    "most_recent = max(dates, key=lambda x:x[1])"
   ]
  },
  {
   "cell_type": "code",
   "execution_count": 9,
   "id": "6ac1bbdd-cb50-444b-8edd-70cdbfa4db34",
   "metadata": {},
   "outputs": [
    {
     "data": {
      "text/plain": [
       "('100126', '2026-01-10')"
      ]
     },
     "execution_count": 9,
     "metadata": {},
     "output_type": "execute_result"
    }
   ],
   "source": [
    "most_recent"
   ]
  },
  {
   "cell_type": "code",
   "execution_count": null,
   "id": "40c615aa-73fb-4cbf-8ceb-8d01400a90b9",
   "metadata": {},
   "outputs": [],
   "source": []
  },
  {
   "cell_type": "code",
   "execution_count": null,
   "id": "31cf0700-3748-4c0f-855c-9e8f1523cca6",
   "metadata": {},
   "outputs": [],
   "source": []
  },
  {
   "cell_type": "code",
   "execution_count": null,
   "id": "bde4ff90-763d-4b1e-b6bb-2d2e368dcbab",
   "metadata": {},
   "outputs": [],
   "source": []
  },
  {
   "cell_type": "code",
   "execution_count": null,
   "id": "b9eda772-7bd5-4e3e-b5c8-f75775ca27ff",
   "metadata": {},
   "outputs": [],
   "source": []
  },
  {
   "cell_type": "code",
   "execution_count": null,
   "id": "b1c6f293-efbf-41f8-b894-21d82d0c40f8",
   "metadata": {},
   "outputs": [],
   "source": []
  },
  {
   "cell_type": "code",
   "execution_count": null,
   "id": "34783f0d-4c53-416b-9491-7c06603c0b59",
   "metadata": {},
   "outputs": [],
   "source": []
  },
  {
   "cell_type": "code",
   "execution_count": null,
   "id": "99040da6-cd94-41e6-82f4-482353af6308",
   "metadata": {},
   "outputs": [],
   "source": []
  },
  {
   "cell_type": "code",
   "execution_count": null,
   "id": "3bc2001c-7178-4aa6-aae6-ecc5aca8671e",
   "metadata": {},
   "outputs": [],
   "source": []
  },
  {
   "cell_type": "code",
   "execution_count": null,
   "id": "5bec1256-7d5f-4902-a458-c08508b3d4ee",
   "metadata": {},
   "outputs": [],
   "source": []
  }
 ],
 "metadata": {
  "kernelspec": {
   "display_name": "loteria1",
   "language": "python",
   "name": "loteria1"
  },
  "language_info": {
   "codemirror_mode": {
    "name": "ipython",
    "version": 3
   },
   "file_extension": ".py",
   "mimetype": "text/x-python",
   "name": "python",
   "nbconvert_exporter": "python",
   "pygments_lexer": "ipython3",
   "version": "3.12.11"
  }
 },
 "nbformat": 4,
 "nbformat_minor": 5
}
